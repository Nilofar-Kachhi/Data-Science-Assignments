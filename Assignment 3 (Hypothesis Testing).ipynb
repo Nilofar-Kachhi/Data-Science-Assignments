{
 "cells": [
  {
   "cell_type": "markdown",
   "id": "2855f46f",
   "metadata": {},
   "source": [
    "# Q.1 A F&B manager wants to determine whether there is     any significant difference in the diameter of the     cutlet between two units. A randomly selected         sample of cutlets was collected from both units       and measured? Analyze the data and draw inferences     at 5% significance level. Please state the             assumptions and tests that you carried out to         check validity of the assumptions."
   ]
  },
  {
   "cell_type": "markdown",
   "id": "97c1f52c",
   "metadata": {},
   "source": [
    "Ans :\n",
    "Step 1 : Define the Hypothesis.\n",
    "\n",
    "Null Hypothesis(H0): µ1 = µ2 (There is no significant difference in the diameter of the cutlet between two units.)\n",
    "\n",
    "Alternate Hypothesis(Ha): µ1 ≠ µ2 (There is significant difference in the diameter of the cutlet between two units.)"
   ]
  },
  {
   "cell_type": "markdown",
   "id": "1e5644f6",
   "metadata": {},
   "source": [
    "Step 2 : Decide which test to be done.\n",
    "\n",
    "We'll conduct t-test.\n"
   ]
  },
  {
   "cell_type": "markdown",
   "id": "9a3cfcb5",
   "metadata": {},
   "source": [
    "Step 3 : Get the α value\n",
    "\n",
    "Significance = 5%\n",
    "\n",
    "α = 0.05\n"
   ]
  },
  {
   "cell_type": "markdown",
   "id": "7db21a3e",
   "metadata": {},
   "source": [
    "Step 4 : Identify whether the test is one tailed or two tailed.\n",
    "\n",
    "As we are considering two possibilities,  it is a two-tailed test.\n",
    "\n",
    "α/2 = 0.025\n"
   ]
  },
  {
   "cell_type": "code",
   "execution_count": 21,
   "id": "384a448e",
   "metadata": {
    "ExecuteTime": {
     "end_time": "2023-01-28T14:12:07.026708Z",
     "start_time": "2023-01-28T14:12:02.636556Z"
    }
   },
   "outputs": [],
   "source": [
    "# Import Libraries\n",
    "import pandas as pd \n",
    "import numpy as np\n",
    "import scipy.stats as stats\n",
    "import statsmodels.api as sm "
   ]
  },
  {
   "cell_type": "code",
   "execution_count": 3,
   "id": "1a4f78fc",
   "metadata": {
    "ExecuteTime": {
     "end_time": "2023-01-08T11:00:17.546017Z",
     "start_time": "2023-01-08T11:00:17.472742Z"
    }
   },
   "outputs": [
    {
     "data": {
      "text/html": [
       "<div>\n",
       "<style scoped>\n",
       "    .dataframe tbody tr th:only-of-type {\n",
       "        vertical-align: middle;\n",
       "    }\n",
       "\n",
       "    .dataframe tbody tr th {\n",
       "        vertical-align: top;\n",
       "    }\n",
       "\n",
       "    .dataframe thead th {\n",
       "        text-align: right;\n",
       "    }\n",
       "</style>\n",
       "<table border=\"1\" class=\"dataframe\">\n",
       "  <thead>\n",
       "    <tr style=\"text-align: right;\">\n",
       "      <th></th>\n",
       "      <th>Unit A</th>\n",
       "      <th>Unit B</th>\n",
       "    </tr>\n",
       "  </thead>\n",
       "  <tbody>\n",
       "    <tr>\n",
       "      <th>0</th>\n",
       "      <td>6.8090</td>\n",
       "      <td>6.7703</td>\n",
       "    </tr>\n",
       "    <tr>\n",
       "      <th>1</th>\n",
       "      <td>6.4376</td>\n",
       "      <td>7.5093</td>\n",
       "    </tr>\n",
       "    <tr>\n",
       "      <th>2</th>\n",
       "      <td>6.9157</td>\n",
       "      <td>6.7300</td>\n",
       "    </tr>\n",
       "    <tr>\n",
       "      <th>3</th>\n",
       "      <td>7.3012</td>\n",
       "      <td>6.7878</td>\n",
       "    </tr>\n",
       "    <tr>\n",
       "      <th>4</th>\n",
       "      <td>7.4488</td>\n",
       "      <td>7.1522</td>\n",
       "    </tr>\n",
       "    <tr>\n",
       "      <th>5</th>\n",
       "      <td>7.3871</td>\n",
       "      <td>6.8110</td>\n",
       "    </tr>\n",
       "    <tr>\n",
       "      <th>6</th>\n",
       "      <td>6.8755</td>\n",
       "      <td>7.2212</td>\n",
       "    </tr>\n",
       "    <tr>\n",
       "      <th>7</th>\n",
       "      <td>7.0621</td>\n",
       "      <td>6.6606</td>\n",
       "    </tr>\n",
       "    <tr>\n",
       "      <th>8</th>\n",
       "      <td>6.6840</td>\n",
       "      <td>7.2402</td>\n",
       "    </tr>\n",
       "    <tr>\n",
       "      <th>9</th>\n",
       "      <td>6.8236</td>\n",
       "      <td>7.0503</td>\n",
       "    </tr>\n",
       "    <tr>\n",
       "      <th>10</th>\n",
       "      <td>7.3930</td>\n",
       "      <td>6.8810</td>\n",
       "    </tr>\n",
       "    <tr>\n",
       "      <th>11</th>\n",
       "      <td>7.5169</td>\n",
       "      <td>7.4059</td>\n",
       "    </tr>\n",
       "    <tr>\n",
       "      <th>12</th>\n",
       "      <td>6.9246</td>\n",
       "      <td>6.7652</td>\n",
       "    </tr>\n",
       "    <tr>\n",
       "      <th>13</th>\n",
       "      <td>6.9256</td>\n",
       "      <td>6.0380</td>\n",
       "    </tr>\n",
       "    <tr>\n",
       "      <th>14</th>\n",
       "      <td>6.5797</td>\n",
       "      <td>7.1581</td>\n",
       "    </tr>\n",
       "    <tr>\n",
       "      <th>15</th>\n",
       "      <td>6.8394</td>\n",
       "      <td>7.0240</td>\n",
       "    </tr>\n",
       "    <tr>\n",
       "      <th>16</th>\n",
       "      <td>6.5970</td>\n",
       "      <td>6.6672</td>\n",
       "    </tr>\n",
       "    <tr>\n",
       "      <th>17</th>\n",
       "      <td>7.2705</td>\n",
       "      <td>7.4314</td>\n",
       "    </tr>\n",
       "    <tr>\n",
       "      <th>18</th>\n",
       "      <td>7.2828</td>\n",
       "      <td>7.3070</td>\n",
       "    </tr>\n",
       "    <tr>\n",
       "      <th>19</th>\n",
       "      <td>7.3495</td>\n",
       "      <td>6.7478</td>\n",
       "    </tr>\n",
       "    <tr>\n",
       "      <th>20</th>\n",
       "      <td>6.9438</td>\n",
       "      <td>6.8889</td>\n",
       "    </tr>\n",
       "    <tr>\n",
       "      <th>21</th>\n",
       "      <td>7.1560</td>\n",
       "      <td>7.4220</td>\n",
       "    </tr>\n",
       "    <tr>\n",
       "      <th>22</th>\n",
       "      <td>6.5341</td>\n",
       "      <td>6.5217</td>\n",
       "    </tr>\n",
       "    <tr>\n",
       "      <th>23</th>\n",
       "      <td>7.2854</td>\n",
       "      <td>7.1688</td>\n",
       "    </tr>\n",
       "    <tr>\n",
       "      <th>24</th>\n",
       "      <td>6.9952</td>\n",
       "      <td>6.7594</td>\n",
       "    </tr>\n",
       "    <tr>\n",
       "      <th>25</th>\n",
       "      <td>6.8568</td>\n",
       "      <td>6.9399</td>\n",
       "    </tr>\n",
       "    <tr>\n",
       "      <th>26</th>\n",
       "      <td>7.2163</td>\n",
       "      <td>7.0133</td>\n",
       "    </tr>\n",
       "    <tr>\n",
       "      <th>27</th>\n",
       "      <td>6.6801</td>\n",
       "      <td>6.9182</td>\n",
       "    </tr>\n",
       "    <tr>\n",
       "      <th>28</th>\n",
       "      <td>6.9431</td>\n",
       "      <td>6.3346</td>\n",
       "    </tr>\n",
       "    <tr>\n",
       "      <th>29</th>\n",
       "      <td>7.0852</td>\n",
       "      <td>7.5459</td>\n",
       "    </tr>\n",
       "    <tr>\n",
       "      <th>30</th>\n",
       "      <td>6.7794</td>\n",
       "      <td>7.0992</td>\n",
       "    </tr>\n",
       "    <tr>\n",
       "      <th>31</th>\n",
       "      <td>7.2783</td>\n",
       "      <td>7.1180</td>\n",
       "    </tr>\n",
       "    <tr>\n",
       "      <th>32</th>\n",
       "      <td>7.1561</td>\n",
       "      <td>6.6965</td>\n",
       "    </tr>\n",
       "    <tr>\n",
       "      <th>33</th>\n",
       "      <td>7.3943</td>\n",
       "      <td>6.5780</td>\n",
       "    </tr>\n",
       "    <tr>\n",
       "      <th>34</th>\n",
       "      <td>6.9405</td>\n",
       "      <td>7.3875</td>\n",
       "    </tr>\n",
       "  </tbody>\n",
       "</table>\n",
       "</div>"
      ],
      "text/plain": [
       "    Unit A  Unit B\n",
       "0   6.8090  6.7703\n",
       "1   6.4376  7.5093\n",
       "2   6.9157  6.7300\n",
       "3   7.3012  6.7878\n",
       "4   7.4488  7.1522\n",
       "5   7.3871  6.8110\n",
       "6   6.8755  7.2212\n",
       "7   7.0621  6.6606\n",
       "8   6.6840  7.2402\n",
       "9   6.8236  7.0503\n",
       "10  7.3930  6.8810\n",
       "11  7.5169  7.4059\n",
       "12  6.9246  6.7652\n",
       "13  6.9256  6.0380\n",
       "14  6.5797  7.1581\n",
       "15  6.8394  7.0240\n",
       "16  6.5970  6.6672\n",
       "17  7.2705  7.4314\n",
       "18  7.2828  7.3070\n",
       "19  7.3495  6.7478\n",
       "20  6.9438  6.8889\n",
       "21  7.1560  7.4220\n",
       "22  6.5341  6.5217\n",
       "23  7.2854  7.1688\n",
       "24  6.9952  6.7594\n",
       "25  6.8568  6.9399\n",
       "26  7.2163  7.0133\n",
       "27  6.6801  6.9182\n",
       "28  6.9431  6.3346\n",
       "29  7.0852  7.5459\n",
       "30  6.7794  7.0992\n",
       "31  7.2783  7.1180\n",
       "32  7.1561  6.6965\n",
       "33  7.3943  6.5780\n",
       "34  6.9405  7.3875"
      ]
     },
     "execution_count": 3,
     "metadata": {},
     "output_type": "execute_result"
    }
   ],
   "source": [
    "cutlets = pd.read_csv('Cutlets.csv')\n",
    "cutlets"
   ]
  },
  {
   "cell_type": "markdown",
   "id": "c89f3ae4",
   "metadata": {},
   "source": [
    "Step 5 : Calculate p_value"
   ]
  },
  {
   "cell_type": "code",
   "execution_count": 19,
   "id": "1dada767",
   "metadata": {
    "ExecuteTime": {
     "end_time": "2023-01-08T11:18:07.079794Z",
     "start_time": "2023-01-08T11:18:07.059906Z"
    }
   },
   "outputs": [
    {
     "name": "stdout",
     "output_type": "stream",
     "text": [
      "p_value =  0.4722394724599501\n"
     ]
    }
   ],
   "source": [
    "statistic, p_value = stats.ttest_ind(cutlets['Unit A'], cutlets['Unit B'], alternative='two-sided')\n",
    "print('p_value = ', p_value)"
   ]
  },
  {
   "cell_type": "markdown",
   "id": "412b93f2",
   "metadata": {},
   "source": [
    "Step 6 : Compare p_value with α"
   ]
  },
  {
   "cell_type": "code",
   "execution_count": 20,
   "id": "5f99dc98",
   "metadata": {
    "ExecuteTime": {
     "end_time": "2023-01-08T11:18:08.359746Z",
     "start_time": "2023-01-08T11:18:08.344803Z"
    }
   },
   "outputs": [
    {
     "name": "stdout",
     "output_type": "stream",
     "text": [
      "Significance=0.050, p=0.472\n",
      "We fail to reject Null Hypothesis.\n"
     ]
    }
   ],
   "source": [
    "α = 0.05\n",
    "print('Significance=%.3f, p=%.3f' %(α ,p_value))\n",
    "if p_value <= α:\n",
    "    print('We reject Null Hypothesis.')\n",
    "else:\n",
    "    print('We fail to reject Null Hypothesis.')"
   ]
  },
  {
   "cell_type": "markdown",
   "id": "a391d797",
   "metadata": {},
   "source": [
    "Hence, we fail to reject null hypothesis\n",
    "\n",
    "So there is no significant difference in the diameter of the cutlet between two units"
   ]
  },
  {
   "cell_type": "code",
   "execution_count": null,
   "id": "b6ee1f9c",
   "metadata": {},
   "outputs": [],
   "source": []
  },
  {
   "cell_type": "markdown",
   "id": "825d97ea",
   "metadata": {},
   "source": [
    "# Q.2 A hospital wants to determine whether there is any difference in the average Turn Around Time(TAT) of reports of the laboratories on their preferred list. They collected a random sample and recorded TAT for reports of 4 laboratories. TAT is defined as sample collected to report dispatch.\n",
    "\n",
    "# Analyze the data and determine whether there is any difference in average TAT among the different laboratories at 5% significance level."
   ]
  },
  {
   "cell_type": "markdown",
   "id": "88b76d48",
   "metadata": {},
   "source": [
    "Ans : \n",
    "\n",
    "Step 1 : Define the hypothesis.\n",
    "\n",
    "H0 : µ1 = µ2 = µ3 = µ4 (There is no difference in average TAT of reports of the laboratories.)\n",
    "\n",
    "Ha : Atleast one of them is different."
   ]
  },
  {
   "cell_type": "markdown",
   "id": "cae62df2",
   "metadata": {},
   "source": [
    "Step 2 : Decide the test.\n",
    "\n",
    "Here we have four samples so we'll use Anova test."
   ]
  },
  {
   "cell_type": "markdown",
   "id": "97073519",
   "metadata": {
    "ExecuteTime": {
     "end_time": "2023-01-07T16:42:53.939188Z",
     "start_time": "2023-01-07T16:42:53.924147Z"
    }
   },
   "source": [
    "Step 3 : Get the α value\n",
    "\n",
    "Significance = 5%\n",
    "\n",
    "α = 0.05\n"
   ]
  },
  {
   "cell_type": "code",
   "execution_count": 8,
   "id": "1880db8a",
   "metadata": {
    "ExecuteTime": {
     "end_time": "2023-01-08T11:08:48.667838Z",
     "start_time": "2023-01-08T11:08:48.626679Z"
    }
   },
   "outputs": [
    {
     "data": {
      "text/html": [
       "<div>\n",
       "<style scoped>\n",
       "    .dataframe tbody tr th:only-of-type {\n",
       "        vertical-align: middle;\n",
       "    }\n",
       "\n",
       "    .dataframe tbody tr th {\n",
       "        vertical-align: top;\n",
       "    }\n",
       "\n",
       "    .dataframe thead th {\n",
       "        text-align: right;\n",
       "    }\n",
       "</style>\n",
       "<table border=\"1\" class=\"dataframe\">\n",
       "  <thead>\n",
       "    <tr style=\"text-align: right;\">\n",
       "      <th></th>\n",
       "      <th>Laboratory 1</th>\n",
       "      <th>Laboratory 2</th>\n",
       "      <th>Laboratory 3</th>\n",
       "      <th>Laboratory 4</th>\n",
       "    </tr>\n",
       "  </thead>\n",
       "  <tbody>\n",
       "    <tr>\n",
       "      <th>0</th>\n",
       "      <td>185.35</td>\n",
       "      <td>165.53</td>\n",
       "      <td>176.70</td>\n",
       "      <td>166.13</td>\n",
       "    </tr>\n",
       "    <tr>\n",
       "      <th>1</th>\n",
       "      <td>170.49</td>\n",
       "      <td>185.91</td>\n",
       "      <td>198.45</td>\n",
       "      <td>160.79</td>\n",
       "    </tr>\n",
       "    <tr>\n",
       "      <th>2</th>\n",
       "      <td>192.77</td>\n",
       "      <td>194.92</td>\n",
       "      <td>201.23</td>\n",
       "      <td>185.18</td>\n",
       "    </tr>\n",
       "    <tr>\n",
       "      <th>3</th>\n",
       "      <td>177.33</td>\n",
       "      <td>183.00</td>\n",
       "      <td>199.61</td>\n",
       "      <td>176.42</td>\n",
       "    </tr>\n",
       "    <tr>\n",
       "      <th>4</th>\n",
       "      <td>193.41</td>\n",
       "      <td>169.57</td>\n",
       "      <td>204.63</td>\n",
       "      <td>152.60</td>\n",
       "    </tr>\n",
       "    <tr>\n",
       "      <th>...</th>\n",
       "      <td>...</td>\n",
       "      <td>...</td>\n",
       "      <td>...</td>\n",
       "      <td>...</td>\n",
       "    </tr>\n",
       "    <tr>\n",
       "      <th>115</th>\n",
       "      <td>178.49</td>\n",
       "      <td>170.66</td>\n",
       "      <td>193.80</td>\n",
       "      <td>172.68</td>\n",
       "    </tr>\n",
       "    <tr>\n",
       "      <th>116</th>\n",
       "      <td>176.08</td>\n",
       "      <td>183.98</td>\n",
       "      <td>215.25</td>\n",
       "      <td>177.64</td>\n",
       "    </tr>\n",
       "    <tr>\n",
       "      <th>117</th>\n",
       "      <td>202.48</td>\n",
       "      <td>174.54</td>\n",
       "      <td>203.99</td>\n",
       "      <td>170.27</td>\n",
       "    </tr>\n",
       "    <tr>\n",
       "      <th>118</th>\n",
       "      <td>182.40</td>\n",
       "      <td>197.18</td>\n",
       "      <td>194.52</td>\n",
       "      <td>150.87</td>\n",
       "    </tr>\n",
       "    <tr>\n",
       "      <th>119</th>\n",
       "      <td>182.09</td>\n",
       "      <td>215.17</td>\n",
       "      <td>221.49</td>\n",
       "      <td>162.21</td>\n",
       "    </tr>\n",
       "  </tbody>\n",
       "</table>\n",
       "<p>120 rows × 4 columns</p>\n",
       "</div>"
      ],
      "text/plain": [
       "     Laboratory 1  Laboratory 2  Laboratory 3  Laboratory 4\n",
       "0          185.35        165.53        176.70        166.13\n",
       "1          170.49        185.91        198.45        160.79\n",
       "2          192.77        194.92        201.23        185.18\n",
       "3          177.33        183.00        199.61        176.42\n",
       "4          193.41        169.57        204.63        152.60\n",
       "..            ...           ...           ...           ...\n",
       "115        178.49        170.66        193.80        172.68\n",
       "116        176.08        183.98        215.25        177.64\n",
       "117        202.48        174.54        203.99        170.27\n",
       "118        182.40        197.18        194.52        150.87\n",
       "119        182.09        215.17        221.49        162.21\n",
       "\n",
       "[120 rows x 4 columns]"
      ]
     },
     "execution_count": 8,
     "metadata": {},
     "output_type": "execute_result"
    }
   ],
   "source": [
    "ltat = pd.read_csv('LabTAT.csv')\n",
    "ltat"
   ]
  },
  {
   "cell_type": "markdown",
   "id": "5fd6b4b5",
   "metadata": {},
   "source": [
    "Step 4 : Calculate p_value"
   ]
  },
  {
   "cell_type": "code",
   "execution_count": 16,
   "id": "79f56e15",
   "metadata": {
    "ExecuteTime": {
     "end_time": "2023-01-08T11:13:51.812196Z",
     "start_time": "2023-01-08T11:13:51.795870Z"
    }
   },
   "outputs": [
    {
     "name": "stdout",
     "output_type": "stream",
     "text": [
      "p_value = 2.1156708949992414e-57\n"
     ]
    }
   ],
   "source": [
    "test_statistic, p_value = stats.f_oneway(ltat.iloc[:,0],ltat.iloc[:,1],\n",
    "                                         ltat.iloc[:,2],ltat.iloc[:,3],axis=0)\n",
    "print('p_value =',p_value)"
   ]
  },
  {
   "cell_type": "markdown",
   "id": "6514f099",
   "metadata": {},
   "source": [
    "Step 5 : Compare p_value with α"
   ]
  },
  {
   "cell_type": "code",
   "execution_count": 18,
   "id": "af4b8cec",
   "metadata": {
    "ExecuteTime": {
     "end_time": "2023-01-08T11:16:38.988741Z",
     "start_time": "2023-01-08T11:16:38.972344Z"
    }
   },
   "outputs": [
    {
     "name": "stdout",
     "output_type": "stream",
     "text": [
      "Significance=0.050, p=0.000\n",
      "We reject Null Hypothesis.\n"
     ]
    }
   ],
   "source": [
    "α = 0.05\n",
    "print('Significance=%.3f, p=%.3f' %(α ,p_value))\n",
    "if p_value <= α:\n",
    "    print('We reject Null Hypothesis.')\n",
    "else:\n",
    "    print('We fail to reject Null Hypothesis.')"
   ]
  },
  {
   "cell_type": "markdown",
   "id": "a6ac2db4",
   "metadata": {},
   "source": [
    "Hence, we reject null hypothesis.\n",
    "\n",
    "So, Atleast one of them is different."
   ]
  },
  {
   "cell_type": "code",
   "execution_count": null,
   "id": "ea572207",
   "metadata": {},
   "outputs": [],
   "source": []
  },
  {
   "cell_type": "markdown",
   "id": "52b5cecd",
   "metadata": {},
   "source": [
    "# Q.3 Sales of products in four different regions is tabulated for males and females. Find if male-female buyer rations are similar across regions."
   ]
  },
  {
   "cell_type": "code",
   "execution_count": 22,
   "id": "37ba78d8",
   "metadata": {
    "ExecuteTime": {
     "end_time": "2023-01-08T11:32:03.805432Z",
     "start_time": "2023-01-08T11:32:03.773092Z"
    }
   },
   "outputs": [
    {
     "data": {
      "text/html": [
       "<div>\n",
       "<style scoped>\n",
       "    .dataframe tbody tr th:only-of-type {\n",
       "        vertical-align: middle;\n",
       "    }\n",
       "\n",
       "    .dataframe tbody tr th {\n",
       "        vertical-align: top;\n",
       "    }\n",
       "\n",
       "    .dataframe thead th {\n",
       "        text-align: right;\n",
       "    }\n",
       "</style>\n",
       "<table border=\"1\" class=\"dataframe\">\n",
       "  <thead>\n",
       "    <tr style=\"text-align: right;\">\n",
       "      <th></th>\n",
       "      <th>Observed Values</th>\n",
       "      <th>East</th>\n",
       "      <th>West</th>\n",
       "      <th>North</th>\n",
       "      <th>South</th>\n",
       "    </tr>\n",
       "  </thead>\n",
       "  <tbody>\n",
       "    <tr>\n",
       "      <th>0</th>\n",
       "      <td>Males</td>\n",
       "      <td>50</td>\n",
       "      <td>142</td>\n",
       "      <td>131</td>\n",
       "      <td>70</td>\n",
       "    </tr>\n",
       "    <tr>\n",
       "      <th>1</th>\n",
       "      <td>Females</td>\n",
       "      <td>435</td>\n",
       "      <td>1523</td>\n",
       "      <td>1356</td>\n",
       "      <td>750</td>\n",
       "    </tr>\n",
       "  </tbody>\n",
       "</table>\n",
       "</div>"
      ],
      "text/plain": [
       "  Observed Values  East  West  North  South\n",
       "0           Males    50   142    131     70\n",
       "1         Females   435  1523   1356    750"
      ]
     },
     "execution_count": 22,
     "metadata": {},
     "output_type": "execute_result"
    }
   ],
   "source": [
    "buyer = pd.read_csv('BuyerRatio.csv')\n",
    "buyer"
   ]
  },
  {
   "cell_type": "code",
   "execution_count": 2,
   "id": "50e3a33e",
   "metadata": {
    "ExecuteTime": {
     "end_time": "2023-01-28T13:41:49.056874Z",
     "start_time": "2023-01-28T13:41:49.032310Z"
    }
   },
   "outputs": [
    {
     "data": {
      "text/plain": [
       "[[50, 142, 131, 70], [435, 1523, 1356, 750]]"
      ]
     },
     "execution_count": 2,
     "metadata": {},
     "output_type": "execute_result"
    }
   ],
   "source": [
    "table = [[50,142,131,70],[435,1523,1356,750]]\n",
    "table"
   ]
  },
  {
   "cell_type": "markdown",
   "id": "beb3a391",
   "metadata": {},
   "source": [
    "Step 1 : Define the hypothesis\n",
    "\n",
    "H0 : There is no dependency between gender based byuer ratio across the regions\n",
    "\n",
    "Ha : There is significant dependency between gender based byuer ratio across the regions\n",
    "\n"
   ]
  },
  {
   "cell_type": "markdown",
   "id": "2c973489",
   "metadata": {},
   "source": [
    "Step 2 : Decide the test\n",
    "\n",
    "Here we'll conduct chi-square test\n"
   ]
  },
  {
   "cell_type": "code",
   "execution_count": 7,
   "id": "836a0f85",
   "metadata": {
    "ExecuteTime": {
     "end_time": "2023-01-28T13:46:38.744298Z",
     "start_time": "2023-01-28T13:46:38.730270Z"
    }
   },
   "outputs": [],
   "source": [
    "\n",
    "from scipy.stats import chi2_contingency"
   ]
  },
  {
   "cell_type": "code",
   "execution_count": 8,
   "id": "dea15750",
   "metadata": {
    "ExecuteTime": {
     "end_time": "2023-01-28T13:46:40.400954Z",
     "start_time": "2023-01-28T13:46:40.355553Z"
    }
   },
   "outputs": [
    {
     "data": {
      "text/plain": [
       "(1.595945538661058,\n",
       " 0.6603094907091882,\n",
       " 3,\n",
       " array([[  42.76531299,  146.81287862,  131.11756787,   72.30424052],\n",
       "        [ 442.23468701, 1518.18712138, 1355.88243213,  747.69575948]]))"
      ]
     },
     "execution_count": 8,
     "metadata": {},
     "output_type": "execute_result"
    }
   ],
   "source": [
    "# Chi2 contengency independence test\n",
    "chi2_contingency(table)\n",
    "\n",
    " # o/p is (Chi2 stats value, p_value, df, expected obsvations)"
   ]
  },
  {
   "cell_type": "markdown",
   "id": "16bcebd2",
   "metadata": {},
   "source": [
    "Step 3 : Compare p_value with α = 0.05"
   ]
  },
  {
   "cell_type": "markdown",
   "id": "7dc20c1c",
   "metadata": {},
   "source": [
    "As p_value = 0.66 is greater than α = 0.05\n",
    "\n",
    "Hence, we fail to reject null hypothesis\n",
    "\n",
    "i.e. There is no dependency between gender based byuer ratio across the regions"
   ]
  },
  {
   "cell_type": "code",
   "execution_count": null,
   "id": "8ac3d4c2",
   "metadata": {},
   "outputs": [],
   "source": []
  },
  {
   "cell_type": "markdown",
   "id": "6fcb1d40",
   "metadata": {},
   "source": [
    "# Q.4 TeleCall uses 4 centers around the globe to process customer order forms. They audit a certain % of the customer order forms. Any error in order form renders it defective and has to be reworked before processing. The manager wants to check whether the defective % varies by centre. Please analyze the data at 5% significance level and help the manager draw appropriate inferences"
   ]
  },
  {
   "cell_type": "code",
   "execution_count": 22,
   "id": "ccc8feec",
   "metadata": {
    "ExecuteTime": {
     "end_time": "2023-01-28T14:12:10.616227Z",
     "start_time": "2023-01-28T14:12:10.537763Z"
    }
   },
   "outputs": [
    {
     "data": {
      "text/html": [
       "<div>\n",
       "<style scoped>\n",
       "    .dataframe tbody tr th:only-of-type {\n",
       "        vertical-align: middle;\n",
       "    }\n",
       "\n",
       "    .dataframe tbody tr th {\n",
       "        vertical-align: top;\n",
       "    }\n",
       "\n",
       "    .dataframe thead th {\n",
       "        text-align: right;\n",
       "    }\n",
       "</style>\n",
       "<table border=\"1\" class=\"dataframe\">\n",
       "  <thead>\n",
       "    <tr style=\"text-align: right;\">\n",
       "      <th></th>\n",
       "      <th>Phillippines</th>\n",
       "      <th>Indonesia</th>\n",
       "      <th>Malta</th>\n",
       "      <th>India</th>\n",
       "    </tr>\n",
       "  </thead>\n",
       "  <tbody>\n",
       "    <tr>\n",
       "      <th>0</th>\n",
       "      <td>Error Free</td>\n",
       "      <td>Error Free</td>\n",
       "      <td>Defective</td>\n",
       "      <td>Error Free</td>\n",
       "    </tr>\n",
       "    <tr>\n",
       "      <th>1</th>\n",
       "      <td>Error Free</td>\n",
       "      <td>Error Free</td>\n",
       "      <td>Error Free</td>\n",
       "      <td>Defective</td>\n",
       "    </tr>\n",
       "    <tr>\n",
       "      <th>2</th>\n",
       "      <td>Error Free</td>\n",
       "      <td>Defective</td>\n",
       "      <td>Defective</td>\n",
       "      <td>Error Free</td>\n",
       "    </tr>\n",
       "    <tr>\n",
       "      <th>3</th>\n",
       "      <td>Error Free</td>\n",
       "      <td>Error Free</td>\n",
       "      <td>Error Free</td>\n",
       "      <td>Error Free</td>\n",
       "    </tr>\n",
       "    <tr>\n",
       "      <th>4</th>\n",
       "      <td>Error Free</td>\n",
       "      <td>Error Free</td>\n",
       "      <td>Defective</td>\n",
       "      <td>Error Free</td>\n",
       "    </tr>\n",
       "    <tr>\n",
       "      <th>...</th>\n",
       "      <td>...</td>\n",
       "      <td>...</td>\n",
       "      <td>...</td>\n",
       "      <td>...</td>\n",
       "    </tr>\n",
       "    <tr>\n",
       "      <th>295</th>\n",
       "      <td>Error Free</td>\n",
       "      <td>Error Free</td>\n",
       "      <td>Error Free</td>\n",
       "      <td>Error Free</td>\n",
       "    </tr>\n",
       "    <tr>\n",
       "      <th>296</th>\n",
       "      <td>Error Free</td>\n",
       "      <td>Error Free</td>\n",
       "      <td>Error Free</td>\n",
       "      <td>Error Free</td>\n",
       "    </tr>\n",
       "    <tr>\n",
       "      <th>297</th>\n",
       "      <td>Error Free</td>\n",
       "      <td>Error Free</td>\n",
       "      <td>Defective</td>\n",
       "      <td>Error Free</td>\n",
       "    </tr>\n",
       "    <tr>\n",
       "      <th>298</th>\n",
       "      <td>Error Free</td>\n",
       "      <td>Error Free</td>\n",
       "      <td>Error Free</td>\n",
       "      <td>Error Free</td>\n",
       "    </tr>\n",
       "    <tr>\n",
       "      <th>299</th>\n",
       "      <td>Error Free</td>\n",
       "      <td>Defective</td>\n",
       "      <td>Defective</td>\n",
       "      <td>Error Free</td>\n",
       "    </tr>\n",
       "  </tbody>\n",
       "</table>\n",
       "<p>300 rows × 4 columns</p>\n",
       "</div>"
      ],
      "text/plain": [
       "    Phillippines   Indonesia       Malta       India\n",
       "0     Error Free  Error Free   Defective  Error Free\n",
       "1     Error Free  Error Free  Error Free   Defective\n",
       "2     Error Free   Defective   Defective  Error Free\n",
       "3     Error Free  Error Free  Error Free  Error Free\n",
       "4     Error Free  Error Free   Defective  Error Free\n",
       "..           ...         ...         ...         ...\n",
       "295   Error Free  Error Free  Error Free  Error Free\n",
       "296   Error Free  Error Free  Error Free  Error Free\n",
       "297   Error Free  Error Free   Defective  Error Free\n",
       "298   Error Free  Error Free  Error Free  Error Free\n",
       "299   Error Free   Defective   Defective  Error Free\n",
       "\n",
       "[300 rows x 4 columns]"
      ]
     },
     "execution_count": 22,
     "metadata": {},
     "output_type": "execute_result"
    }
   ],
   "source": [
    "df = pd.read_csv('Costomer+OrderForm.csv')\n",
    "df"
   ]
  },
  {
   "cell_type": "code",
   "execution_count": 23,
   "id": "19756344",
   "metadata": {
    "ExecuteTime": {
     "end_time": "2023-01-28T14:12:17.140251Z",
     "start_time": "2023-01-28T14:12:17.111743Z"
    }
   },
   "outputs": [
    {
     "data": {
      "text/plain": [
       "Error Free    271\n",
       "Defective      29\n",
       "Name: Phillippines, dtype: int64"
      ]
     },
     "execution_count": 23,
     "metadata": {},
     "output_type": "execute_result"
    }
   ],
   "source": [
    "df.Phillippines.value_counts()"
   ]
  },
  {
   "cell_type": "code",
   "execution_count": 24,
   "id": "1924ffd4",
   "metadata": {
    "ExecuteTime": {
     "end_time": "2023-01-28T14:12:21.395802Z",
     "start_time": "2023-01-28T14:12:21.375525Z"
    }
   },
   "outputs": [
    {
     "data": {
      "text/plain": [
       "Error Free    267\n",
       "Defective      33\n",
       "Name: Indonesia, dtype: int64"
      ]
     },
     "execution_count": 24,
     "metadata": {},
     "output_type": "execute_result"
    }
   ],
   "source": [
    "df.Indonesia.value_counts()"
   ]
  },
  {
   "cell_type": "code",
   "execution_count": 25,
   "id": "332672d5",
   "metadata": {
    "ExecuteTime": {
     "end_time": "2023-01-28T14:12:24.797643Z",
     "start_time": "2023-01-28T14:12:24.785768Z"
    }
   },
   "outputs": [
    {
     "data": {
      "text/plain": [
       "Error Free    269\n",
       "Defective      31\n",
       "Name: Malta, dtype: int64"
      ]
     },
     "execution_count": 25,
     "metadata": {},
     "output_type": "execute_result"
    }
   ],
   "source": [
    "df.Malta.value_counts()"
   ]
  },
  {
   "cell_type": "code",
   "execution_count": 26,
   "id": "74167df2",
   "metadata": {
    "ExecuteTime": {
     "end_time": "2023-01-28T14:12:28.831346Z",
     "start_time": "2023-01-28T14:12:28.806608Z"
    }
   },
   "outputs": [
    {
     "data": {
      "text/plain": [
       "Error Free    280\n",
       "Defective      20\n",
       "Name: India, dtype: int64"
      ]
     },
     "execution_count": 26,
     "metadata": {},
     "output_type": "execute_result"
    }
   ],
   "source": [
    "df.India.value_counts()"
   ]
  },
  {
   "cell_type": "code",
   "execution_count": 27,
   "id": "29e2628e",
   "metadata": {
    "ExecuteTime": {
     "end_time": "2023-01-28T14:12:38.354029Z",
     "start_time": "2023-01-28T14:12:38.338686Z"
    }
   },
   "outputs": [
    {
     "data": {
      "text/plain": [
       "array([[271, 267, 269, 280],\n",
       "       [ 29,  33,  31,  20]])"
      ]
     },
     "execution_count": 27,
     "metadata": {},
     "output_type": "execute_result"
    }
   ],
   "source": [
    "# Make a contingency table\n",
    "table=np.array([[271,267,269,280],[29,33,31,20]])\n",
    "table"
   ]
  },
  {
   "cell_type": "markdown",
   "id": "9af0c409",
   "metadata": {
    "ExecuteTime": {
     "end_time": "2023-01-28T14:03:02.806413Z",
     "start_time": "2023-01-28T14:03:02.792551Z"
    }
   },
   "source": [
    "Step 1 : Define the hypothesis\n",
    "\n",
    "Ho: Independence of categorical variables (customer order forms defective % does not varies by centre)\n",
    "\n",
    "Ha: Dependence of categorical variables (customer order forms defective % varies by centre)"
   ]
  },
  {
   "cell_type": "markdown",
   "id": "5a6cf2e8",
   "metadata": {
    "ExecuteTime": {
     "end_time": "2023-01-28T14:08:39.155020Z",
     "start_time": "2023-01-28T14:08:39.138955Z"
    }
   },
   "source": [
    "Step 2 : Decide the test\n",
    "\n",
    "Here we'll conduct chi-square test\n"
   ]
  },
  {
   "cell_type": "code",
   "execution_count": 28,
   "id": "0cf518f1",
   "metadata": {
    "ExecuteTime": {
     "end_time": "2023-01-28T14:12:46.218685Z",
     "start_time": "2023-01-28T14:12:46.204655Z"
    }
   },
   "outputs": [
    {
     "data": {
      "text/plain": [
       "(3.858960685820355,\n",
       " 0.2771020991233135,\n",
       " 3,\n",
       " array([[271.75, 271.75, 271.75, 271.75],\n",
       "        [ 28.25,  28.25,  28.25,  28.25]]))"
      ]
     },
     "execution_count": 28,
     "metadata": {},
     "output_type": "execute_result"
    }
   ],
   "source": [
    "# Chi2 contengency independence test\n",
    "chi2_contingency(table)\n",
    "# o/p is (Chi2 stats value, p_value, df, expected obsvations)"
   ]
  },
  {
   "cell_type": "markdown",
   "id": "839e507d",
   "metadata": {
    "ExecuteTime": {
     "end_time": "2023-01-28T14:03:42.994946Z",
     "start_time": "2023-01-28T14:03:42.980191Z"
    }
   },
   "source": [
    " Step 3 : Compare p_value with α = 0.05"
   ]
  },
  {
   "cell_type": "markdown",
   "id": "d5fff89f",
   "metadata": {
    "ExecuteTime": {
     "end_time": "2023-01-28T14:05:34.545352Z",
     "start_time": "2023-01-28T14:05:34.521230Z"
    }
   },
   "source": [
    "As p_value = 0.2771 is greater than α = 0.05\n",
    "\n",
    "Hence, we fail to reject null hypothesis\n",
    "\n",
    "i.e. Independence of categorical variables Thus, \n",
    "customer order forms defective % does not varies by centre"
   ]
  },
  {
   "cell_type": "code",
   "execution_count": null,
   "id": "de43e610",
   "metadata": {},
   "outputs": [],
   "source": []
  }
 ],
 "metadata": {
  "kernelspec": {
   "display_name": "Python 3 (ipykernel)",
   "language": "python",
   "name": "python3"
  },
  "language_info": {
   "codemirror_mode": {
    "name": "ipython",
    "version": 3
   },
   "file_extension": ".py",
   "mimetype": "text/x-python",
   "name": "python",
   "nbconvert_exporter": "python",
   "pygments_lexer": "ipython3",
   "version": "3.9.13"
  }
 },
 "nbformat": 4,
 "nbformat_minor": 5
}
